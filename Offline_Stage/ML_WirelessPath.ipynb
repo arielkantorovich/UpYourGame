{
 "cells": [
  {
   "metadata": {},
   "cell_type": "markdown",
   "source": "# Import Librarys",
   "id": "cca12dc4e38dbb67"
  },
  {
   "cell_type": "code",
   "id": "initial_id",
   "metadata": {
    "collapsed": true,
    "ExecuteTime": {
     "end_time": "2025-02-08T10:08:30.691783Z",
     "start_time": "2025-02-08T10:08:30.682937Z"
    }
   },
   "source": [
    "import matplotlib.pyplot as plt\n",
    "import numpy as np\n",
    "import torch\n",
    "import torch.nn as nn\n",
    "import torch.optim as optim\n",
    "from torch.utils.data import DataLoader, TensorDataset\n",
    "from torch.optim.lr_scheduler import StepLR\n",
    "import torch.nn.init as init\n",
    "import torch.nn.functional as F\n"
   ],
   "outputs": [],
   "execution_count": 40
  },
  {
   "metadata": {
    "ExecuteTime": {
     "end_time": "2025-02-08T10:08:33.315835Z",
     "start_time": "2025-02-08T10:08:32.066410Z"
    }
   },
   "cell_type": "code",
   "source": "!nvidia-smi",
   "id": "3d9b374215e376d",
   "outputs": [
    {
     "name": "stdout",
     "output_type": "stream",
     "text": [
      "/bin/bash: warning: setlocale: LC_ALL: cannot change locale (en_US.UTF-8)\r\n",
      "Sat Feb  8 12:08:32 2025       \r\n",
      "+-----------------------------------------------------------------------------------------+\r\n",
      "| NVIDIA-SMI 565.51.01              Driver Version: 565.90         CUDA Version: 12.7     |\r\n",
      "|-----------------------------------------+------------------------+----------------------+\r\n",
      "| GPU  Name                 Persistence-M | Bus-Id          Disp.A | Volatile Uncorr. ECC |\r\n",
      "| Fan  Temp   Perf          Pwr:Usage/Cap |           Memory-Usage | GPU-Util  Compute M. |\r\n",
      "|                                         |                        |               MIG M. |\r\n",
      "|=========================================+========================+======================|\r\n",
      "|   0  NVIDIA GeForce RTX 2050        On  |   00000000:01:00.0 Off |                  N/A |\r\n",
      "| N/A   46C    P8              4W /   30W |     121MiB /   4096MiB |      0%      Default |\r\n",
      "|                                         |                        |                  N/A |\r\n",
      "+-----------------------------------------+------------------------+----------------------+\r\n",
      "                                                                                         \r\n",
      "+-----------------------------------------------------------------------------------------+\r\n",
      "| Processes:                                                                              |\r\n",
      "|  GPU   GI   CI        PID   Type   Process name                              GPU Memory |\r\n",
      "|        ID   ID                                                               Usage      |\r\n",
      "|=========================================================================================|\r\n",
      "|    0   N/A  N/A      1386      C   /python3.10                                 N/A      |\r\n",
      "+-----------------------------------------------------------------------------------------+\r\n"
     ]
    }
   ],
   "execution_count": 41
  },
  {
   "metadata": {
    "ExecuteTime": {
     "end_time": "2025-02-08T10:08:33.827196Z",
     "start_time": "2025-02-08T10:08:33.814582Z"
    }
   },
   "cell_type": "code",
   "source": [
    "device = torch.device(\"cuda\" if torch.cuda.is_available() else \"cpu\")\n",
    "torch.cuda.is_available()"
   ],
   "id": "a92c3aaf6557de5f",
   "outputs": [
    {
     "data": {
      "text/plain": [
       "True"
      ]
     },
     "execution_count": 42,
     "metadata": {},
     "output_type": "execute_result"
    }
   ],
   "execution_count": 42
  },
  {
   "metadata": {},
   "cell_type": "markdown",
   "source": "# Load Dataset",
   "id": "de77809b187eb49f"
  },
  {
   "metadata": {},
   "cell_type": "markdown",
   "source": "Data Parameters",
   "id": "ff38d997f086d840"
  },
  {
   "metadata": {
    "ExecuteTime": {
     "end_time": "2025-02-08T10:08:41.757321Z",
     "start_time": "2025-02-08T10:08:41.749377Z"
    }
   },
   "cell_type": "code",
   "source": [
    "L_valid = 2000\n",
    "L_train = 15000\n",
    "T_exploration = 100 # 50 / 220\n",
    "N = 5 # 5 / 20 / 80\n",
    "N0 = 0.001\n",
    "\n",
    "file_x_valid_pre = 'Numpy_array_save/N=5_wireless_poly(Rlink=0.3)/x_valid_pre.npy'\n",
    "file_x_valid = 'Numpy_array_save/N=5_wireless_poly(Rlink=0.3)/x_valid.npy'\n",
    "file_y_valid = 'Numpy_array_save/N=5_wireless_poly(Rlink=0.3)/y_valid.npy'\n",
    "file_x_train_pre = 'Numpy_array_save/N=5_wireless_poly(Rlink=0.3)/x_train_pre.npy'\n",
    "file_x_train = 'Numpy_array_save/N=5_wireless_poly(Rlink=0.3)/x_train.npy'\n",
    "file_y_train = 'Numpy_array_save/N=5_wireless_poly(Rlink=0.3)/y_train.npy'"
   ],
   "id": "888e490a403ff739",
   "outputs": [],
   "execution_count": 43
  },
  {
   "metadata": {},
   "cell_type": "markdown",
   "source": "Load data",
   "id": "d708020582a3426b"
  },
  {
   "metadata": {
    "ExecuteTime": {
     "end_time": "2025-02-08T10:09:56.291928Z",
     "start_time": "2025-02-08T10:09:51.687115Z"
    }
   },
   "cell_type": "code",
   "source": [
    "x_train = np.load(file_x_train)\n",
    "y_train = np.load(file_y_train)\n",
    "x_valid = np.load(file_x_valid)\n",
    "y_valid = np.load(file_y_valid)\n",
    "x_train_pre = np.load(file_x_train_pre)\n",
    "x_valid_pre = np.load(file_x_valid_pre)\n",
    "\n",
    "print(f\"x_train.shape = {x_train_pre.shape}. x_train.shape = {x_train.shape}, y_train.shape = {y_train.shape}\")"
   ],
   "id": "4a2a375bc719918",
   "outputs": [
    {
     "name": "stdout",
     "output_type": "stream",
     "text": [
      "x_train.shape = (75000, 200). x_train.shape = (75000, 200), y_train.shape = (75000, 100)\n"
     ]
    }
   ],
   "execution_count": 44
  },
  {
   "metadata": {
    "ExecuteTime": {
     "end_time": "2025-02-07T13:25:25.050405Z",
     "start_time": "2025-02-07T13:25:25.044502Z"
    }
   },
   "cell_type": "code",
   "source": "x_train[99, 0:200]",
   "id": "6acbca0158428c4b",
   "outputs": [
    {
     "data": {
      "text/plain": [
       "array([0.50305666, 0.01080813, 0.49747159, 0.01572526, 0.49524652,\n",
       "       0.01619985, 0.49366944, 0.01657383, 0.49253409, 0.01688396,\n",
       "       0.49172681, 0.01714753, 0.49117354, 0.0173748 , 0.49082158,\n",
       "       0.01757262, 0.49063139, 0.01774587, 0.49057214, 0.01789821,\n",
       "       0.49061918, 0.01803249, 0.49075237, 0.01815096, 0.49095501,\n",
       "       0.01825546, 0.49121307, 0.01834752, 0.49151464, 0.01842841,\n",
       "       0.49184954, 0.01849923, 0.49220902, 0.0185609 , 0.49258547,\n",
       "       0.01861426, 0.49297232, 0.01866   , 0.49336382, 0.01869877,\n",
       "       0.49375494, 0.01873114, 0.49414129, 0.0187576 , 0.49451903,\n",
       "       0.01877862, 0.49488478, 0.01879462, 0.49523559, 0.01880597,\n",
       "       0.4955689 , 0.01881303, 0.49588247, 0.01881612, 0.49617436,\n",
       "       0.01881555, 0.4964429 , 0.01881159, 0.49668668, 0.01880451,\n",
       "       0.49690449, 0.01879456, 0.49709535, 0.01878197, 0.49725846,\n",
       "       0.01876696, 0.49739317, 0.01874974, 0.49749903, 0.01873052,\n",
       "       0.49757571, 0.01870947, 0.49762302, 0.0186868 , 0.49764092,\n",
       "       0.01866266, 0.49762946, 0.01863723, 0.49758884, 0.01861067,\n",
       "       0.49751933, 0.01858313, 0.49742133, 0.01855475, 0.4972953 ,\n",
       "       0.01852569, 0.49714182, 0.01849607, 0.49696154, 0.01846603,\n",
       "       0.49675516, 0.01843568, 0.49652348, 0.01840516, 0.49626736,\n",
       "       0.01837456, 0.49598772, 0.01834399, 0.49568551, 0.01831356,\n",
       "       0.49536175, 0.01828336, 0.49501751, 0.01825349, 0.49465386,\n",
       "       0.01822401, 0.49427194, 0.01819502, 0.49387289, 0.01816659,\n",
       "       0.49345789, 0.01813877, 0.49302813, 0.01811163, 0.49258478,\n",
       "       0.01808523, 0.49212907, 0.01805961, 0.49166218, 0.01803483,\n",
       "       0.49118531, 0.01801091, 0.49069964, 0.01798789, 0.49020635,\n",
       "       0.0179658 , 0.48970658, 0.01794466, 0.48920148, 0.01792449,\n",
       "       0.48869213, 0.01790532, 0.48817963, 0.01788714, 0.48766501,\n",
       "       0.01786996, 0.48714928, 0.0178538 , 0.48663343, 0.01783864,\n",
       "       0.48611839, 0.01782449, 0.48560506, 0.01781135, 0.48509429,\n",
       "       0.01779919, 0.48458691, 0.01778802, 0.48408369, 0.01777782,\n",
       "       0.48358536, 0.01776858, 0.4830926 , 0.01776027, 0.48260608,\n",
       "       0.0177529 , 0.4821264 , 0.01774643, 0.48165411, 0.01774084,\n",
       "       0.48118975, 0.01773612, 0.4807338 , 0.01773226, 0.4802867 ,\n",
       "       0.01772921, 0.47984888, 0.01772697, 0.47942069, 0.01772552,\n",
       "       0.47900248, 0.01772482, 0.47859455, 0.01772487, 0.47819717,\n",
       "       0.01772563, 0.47781059, 0.01772709, 0.47743502, 0.01772922,\n",
       "       0.47707064, 0.01773201, 0.47671762, 0.01773542, 0.47637607,\n",
       "       0.01773945, 0.47604612, 0.01774408, 0.47572785, 0.01774927,\n",
       "       0.47542133, 0.01775502, 0.4751266 , 0.0177613 , 0.47484368,\n",
       "       0.01776809, 0.4745726 , 0.01777538, 0.47431335, 0.01778315])"
      ]
     },
     "execution_count": 84,
     "metadata": {},
     "output_type": "execute_result"
    }
   ],
   "execution_count": 84
  },
  {
   "metadata": {},
   "cell_type": "markdown",
   "source": "Convert to Tensor",
   "id": "4a2313a333d84db8"
  },
  {
   "metadata": {
    "ExecuteTime": {
     "end_time": "2025-02-08T10:23:19.137245Z",
     "start_time": "2025-02-08T10:23:19.056147Z"
    }
   },
   "cell_type": "code",
   "source": [
    "x_train_pre = torch.tensor(x_train_pre, dtype=torch.float32)\n",
    "x_train = torch.tensor(x_train, dtype=torch.float32)\n",
    "y_train = torch.tensor(y_train, dtype=torch.float32)\n",
    "\n",
    "x_valid_pre = torch.tensor(x_valid_pre, dtype=torch.float32)\n",
    "x_valid = torch.tensor(x_valid, dtype=torch.float32)\n",
    "y_valid = torch.tensor(y_valid, dtype=torch.float32)"
   ],
   "id": "aea351d4b0ef431a",
   "outputs": [],
   "execution_count": 45
  },
  {
   "metadata": {},
   "cell_type": "markdown",
   "source": "# Define NN",
   "id": "599594e0d8beca0f"
  },
  {
   "metadata": {
    "ExecuteTime": {
     "end_time": "2025-02-08T10:23:20.946378Z",
     "start_time": "2025-02-08T10:23:20.931910Z"
    }
   },
   "cell_type": "code",
   "source": [
    "class Wireless_poly(nn.Module):\n",
    "    def __init__(self, input_size, output_size):\n",
    "        \"\"\"\n",
    "        :param input_size: In general (2 * T_exploration) because [(Pn, In)_t=0, ...., (Pn, In)_t=T_explor]\n",
    "        :param output_size: (2, ) because beta_n and alpha_n\n",
    "        \"\"\"\n",
    "        super(Wireless_poly, self).__init__()\n",
    "        self.fc0 = nn.Linear(input_size, 256)\n",
    "        self.fc1 = nn.Linear(256, 128)\n",
    "        self.fc2 = nn.Linear(128, 64)\n",
    "        self.fc3 = nn.Linear(64, 32)\n",
    "        self.fc4 = nn.Linear(32, output_size)\n",
    "\n",
    "        # Initialize weights\n",
    "        self.init_weights()\n",
    "\n",
    "    def forward(self, x):\n",
    "        x = torch.relu(self.fc0(x))\n",
    "        x = torch.relu(self.fc1(x))\n",
    "        x = torch.relu(self.fc2(x))\n",
    "        x = torch.relu(self.fc3(x))\n",
    "        x = self.fc4(x)\n",
    "        return x\n",
    "\n",
    "    def init_weights(self):\n",
    "        for m in self.modules():\n",
    "            if isinstance(m, nn.Linear):\n",
    "                init.kaiming_normal_(m.weight, mode='fan_in', nonlinearity='relu')\n",
    "                if m.bias is not None:\n",
    "                    init.constant_(m.bias, 0)\n",
    "            elif isinstance(m, nn.BatchNorm1d):\n",
    "                init.constant_(m.weight, 1)\n",
    "                init.constant_(m.bias, 0)\n"
   ],
   "id": "cab343824bb18f6c",
   "outputs": [],
   "execution_count": 46
  },
  {
   "metadata": {},
   "cell_type": "markdown",
   "source": "# Network Train Parameters",
   "id": "3807e7b45ce729c5"
  },
  {
   "metadata": {
    "ExecuteTime": {
     "end_time": "2025-02-08T10:23:30.135086Z",
     "start_time": "2025-02-08T10:23:30.116706Z"
    }
   },
   "cell_type": "code",
   "source": [
    "input_size = 2 * T_exploration\n",
    "output_size = 1 # Size of output alpha_n beta_n\n",
    "model = Wireless_poly(input_size, output_size).to(device=device)"
   ],
   "id": "d8e5d7232ce0af83",
   "outputs": [],
   "execution_count": 47
  },
  {
   "metadata": {
    "ExecuteTime": {
     "end_time": "2025-02-08T10:23:32.209306Z",
     "start_time": "2025-02-08T10:23:32.181742Z"
    }
   },
   "cell_type": "code",
   "source": [
    "num_epochs = 30\n",
    "batch_size = 256\n",
    "lr = 0.0008\n",
    "\n",
    "criterion = nn.L1Loss()\n",
    "optimizer = optim.Adam(model.parameters(), lr=lr, betas=(0.9, 0.999))\n",
    "scheduler = StepLR(optimizer, step_size=30, gamma=0.1)\n",
    "\n",
    "# Crate Data Loader for training\n",
    "train_dataset = TensorDataset(x_train_pre, x_train, y_train)\n",
    "val_dataset = TensorDataset(x_valid_pre, x_valid, y_valid)\n",
    "train_loader = DataLoader(train_dataset, batch_size=batch_size, shuffle=False)\n",
    "val_loader = DataLoader(val_dataset, batch_size=batch_size, shuffle=False)"
   ],
   "id": "84d0f3955a95052c",
   "outputs": [],
   "execution_count": 48
  },
  {
   "metadata": {},
   "cell_type": "markdown",
   "source": "# Continue train (Optional)",
   "id": "4eadffc169e3842b"
  },
  {
   "metadata": {
    "ExecuteTime": {
     "end_time": "2025-02-08T09:53:37.844491Z",
     "start_time": "2025-02-08T09:53:37.836771Z"
    }
   },
   "cell_type": "code",
   "source": [
    "num_epochs = 2\n",
    "lr = 0.0008"
   ],
   "id": "1ab29c8851291a15",
   "outputs": [],
   "execution_count": 37
  },
  {
   "metadata": {},
   "cell_type": "markdown",
   "source": "# Train loop",
   "id": "9f6036ea4b5aa2a0"
  },
  {
   "metadata": {
    "ExecuteTime": {
     "end_time": "2025-02-08T10:25:32.159700Z",
     "start_time": "2025-02-08T10:24:22.562400Z"
    }
   },
   "cell_type": "code",
   "source": [
    "train_list = []\n",
    "valid_list = []\n",
    "for epoch in range(num_epochs):\n",
    "    model.train()\n",
    "    train_loss = 0.0\n",
    "\n",
    "    for inputs_pre, inputs, targets in train_loader:\n",
    "        # Extract Input and load to GPU\n",
    "        inputs_pre, inputs, targets = inputs_pre.to(device), inputs.to(device), targets.to(device)\n",
    "        # Zero Grad\n",
    "        optimizer.zero_grad()\n",
    "        # Forward Propagation\n",
    "        outputs = model(inputs_pre)\n",
    "        # Extract Parameters\n",
    "        Pn = inputs[:, ::2]  # Even indices\n",
    "        In = inputs[:, 1::2]  # Odd indices\n",
    "        alpha, beta = outputs[:, 0].view(-1, 1), outputs[:, 1].view(-1, 1)\n",
    "        predicted_prior = alpha * Pn + beta * In\n",
    "        # predicted_prior = outputs * Pn\n",
    "        # Calculate loss\n",
    "        loss = criterion(predicted_prior, targets)\n",
    "        loss.backward()\n",
    "        optimizer.step()\n",
    "        train_loss += loss.item() * inputs.size(0)\n",
    "    scheduler.step()  # Update the learning rate\n",
    "\n",
    "    # Validate\n",
    "    model.eval()\n",
    "    val_loss = 0.0\n",
    "    with torch.no_grad():\n",
    "        for inputs_pre, inputs, targets in val_loader:\n",
    "            # Extract input and load to GPU\n",
    "            inputs_pre, inputs, targets = inputs_pre.to(device), inputs.to(device), targets.to(device)\n",
    "            # Forward Propagation\n",
    "            outputs = model(inputs_pre)\n",
    "            # Extract Parameters\n",
    "            Pn = inputs[:, ::2]  # Even indices\n",
    "            In = inputs[:, 1::2]  # Odd indices\n",
    "            alpha, beta = outputs[:, 0].view(-1, 1), outputs[:, 1].view(-1, 1)\n",
    "            predicted_prior = alpha * Pn + beta * In\n",
    "            # predicted_prior = outputs * Pn\n",
    "            # Calculate loss\n",
    "            loss = criterion(predicted_prior, targets)\n",
    "            val_loss += loss.item() * inputs.size(0)\n",
    "\n",
    "    train_loss /= len(train_loader.dataset)\n",
    "    val_loss /= len(val_loader.dataset)\n",
    "    train_list.append(train_loss)\n",
    "    valid_list.append(val_loss)\n",
    "    lr_value = optimizer.param_groups[0][\"lr\"]\n",
    "    print(f\"Epoch [{epoch+1}/{num_epochs}] Learning Rate:{lr_value} - \"\n",
    "          f\"Train Loss: {train_loss:.5f}, Val Loss: {val_loss:.5f}\")"
   ],
   "id": "7ab717072f18058e",
   "outputs": [
    {
     "name": "stdout",
     "output_type": "stream",
     "text": [
      "Epoch [1/30] Learning Rate:0.0008 - Train Loss: 3.84938, Val Loss: 3.40530\n",
      "Epoch [2/30] Learning Rate:0.0008 - Train Loss: 3.81456, Val Loss: 3.39199\n",
      "Epoch [3/30] Learning Rate:0.0008 - Train Loss: 3.80586, Val Loss: 3.39112\n",
      "Epoch [4/30] Learning Rate:0.0008 - Train Loss: 3.80239, Val Loss: 3.38744\n",
      "Epoch [5/30] Learning Rate:0.0008 - Train Loss: 3.79948, Val Loss: 3.38586\n",
      "Epoch [6/30] Learning Rate:0.0008 - Train Loss: 3.79755, Val Loss: 3.38444\n",
      "Epoch [7/30] Learning Rate:0.0008 - Train Loss: 3.79675, Val Loss: 3.38375\n",
      "Epoch [8/30] Learning Rate:0.0008 - Train Loss: 3.79471, Val Loss: 3.38319\n",
      "Epoch [9/30] Learning Rate:0.0008 - Train Loss: 3.79436, Val Loss: 3.38771\n",
      "Epoch [10/30] Learning Rate:0.0008 - Train Loss: 3.79274, Val Loss: 3.38329\n",
      "Epoch [11/30] Learning Rate:0.0008 - Train Loss: 3.79028, Val Loss: 3.38060\n",
      "Epoch [12/30] Learning Rate:0.0008 - Train Loss: 3.78964, Val Loss: 3.37548\n",
      "Epoch [13/30] Learning Rate:0.0008 - Train Loss: 3.78658, Val Loss: 3.37456\n",
      "Epoch [14/30] Learning Rate:0.0008 - Train Loss: 3.78493, Val Loss: 3.36993\n",
      "Epoch [15/30] Learning Rate:0.0008 - Train Loss: 3.78440, Val Loss: 3.37253\n",
      "Epoch [16/30] Learning Rate:0.0008 - Train Loss: 3.78136, Val Loss: 3.37152\n",
      "Epoch [17/30] Learning Rate:0.0008 - Train Loss: 3.78014, Val Loss: 3.36848\n",
      "Epoch [18/30] Learning Rate:0.0008 - Train Loss: 3.77840, Val Loss: 3.36084\n",
      "Epoch [19/30] Learning Rate:0.0008 - Train Loss: 3.77707, Val Loss: 3.35920\n",
      "Epoch [20/30] Learning Rate:0.0008 - Train Loss: 3.77507, Val Loss: 3.35895\n",
      "Epoch [21/30] Learning Rate:0.0008 - Train Loss: 3.77205, Val Loss: 3.35652\n",
      "Epoch [22/30] Learning Rate:0.0008 - Train Loss: 3.77042, Val Loss: 3.35467\n",
      "Epoch [23/30] Learning Rate:0.0008 - Train Loss: 3.76826, Val Loss: 3.35260\n",
      "Epoch [24/30] Learning Rate:0.0008 - Train Loss: 3.76584, Val Loss: 3.35048\n",
      "Epoch [25/30] Learning Rate:0.0008 - Train Loss: 3.76515, Val Loss: 3.35273\n",
      "Epoch [26/30] Learning Rate:0.0008 - Train Loss: 3.76575, Val Loss: 3.34867\n",
      "Epoch [27/30] Learning Rate:0.0008 - Train Loss: 3.76387, Val Loss: 3.35704\n",
      "Epoch [28/30] Learning Rate:0.0008 - Train Loss: 3.76241, Val Loss: 3.35995\n",
      "Epoch [29/30] Learning Rate:0.0008 - Train Loss: 3.76057, Val Loss: 3.34721\n",
      "Epoch [30/30] Learning Rate:8e-05 - Train Loss: 3.76085, Val Loss: 3.34691\n"
     ]
    }
   ],
   "execution_count": 49
  },
  {
   "metadata": {
    "ExecuteTime": {
     "end_time": "2025-02-08T09:48:25.610267Z",
     "start_time": "2025-02-08T09:48:25.372044Z"
    }
   },
   "cell_type": "code",
   "source": "print(outputs)",
   "id": "a9cc2fdc1d2cfa2b",
   "outputs": [
    {
     "name": "stdout",
     "output_type": "stream",
     "text": [
      "tensor([[ 3.1916e-01, -8.7613e+01],\n",
      "        [ 3.6499e-01, -6.5479e+01],\n",
      "        [ 4.3078e+00, -9.0718e+01],\n",
      "        [ 1.4252e+00, -8.7301e+01],\n",
      "        [-2.2253e-01, -4.3031e+01],\n",
      "        [ 6.9521e-02, -6.5927e+01],\n",
      "        [ 1.9186e-01, -5.4413e+01],\n",
      "        [ 4.1573e+00, -6.9671e+01],\n",
      "        [ 9.9390e-01, -8.0409e+01],\n",
      "        [ 5.1116e-01, -1.9586e+01],\n",
      "        [ 3.6097e-01, -4.9411e+01],\n",
      "        [-7.4886e-02, -4.2867e+01],\n",
      "        [ 1.4816e+01, -3.2346e+01],\n",
      "        [ 4.5732e+00, -1.2678e+02],\n",
      "        [-3.4795e-01, -5.7490e+01],\n",
      "        [ 1.2434e+00, -4.4960e+01]], device='cuda:0')\n"
     ]
    }
   ],
   "execution_count": 33
  },
  {
   "metadata": {},
   "cell_type": "markdown",
   "source": "# Plot Train Graphs",
   "id": "bc13e0d6ee210846"
  },
  {
   "metadata": {
    "ExecuteTime": {
     "end_time": "2025-02-07T13:18:27.179273Z",
     "start_time": "2025-02-07T13:18:26.706183Z"
    }
   },
   "cell_type": "code",
   "source": [
    "epochs = np.arange(num_epochs)\n",
    "plt.plot(epochs, train_list, label='train')\n",
    "plt.plot(epochs, valid_list, label='valid')\n",
    "plt.xlabel(\"# epochs\"), plt.ylabel(\"Loss\"), plt.legend()\n",
    "plt.show()"
   ],
   "id": "f9b94d69f9bf565e",
   "outputs": [
    {
     "data": {
      "text/plain": [
       "<Figure size 640x480 with 1 Axes>"
      ],
      "image/png": "[encoded data removed]"
     },
     "metadata": {},
     "output_type": "display_data"
    }
   ],
   "execution_count": 69
  },
  {
   "metadata": {},
   "cell_type": "markdown",
   "source": "# Plot scatter label vs prediction",
   "id": "2061f5b313850fae"
  },
  {
   "metadata": {
    "ExecuteTime": {
     "end_time": "2025-01-12T12:27:23.219069Z",
     "start_time": "2025-01-12T12:27:23.109121Z"
    }
   },
   "cell_type": "code",
   "source": [
    "model.eval()\n",
    "all_preds = []\n",
    "all_targets = []\n",
    "\n",
    "with torch.no_grad():\n",
    "    for inputs, targets in val_loader:\n",
    "        inputs, targets = inputs.to(device), targets.to(device)\n",
    "        outputs = model(inputs)\n",
    "        # Extract Parameters\n",
    "        Pn = inputs[:, ::2]  # Even indices\n",
    "        In = inputs[:, 1::2]  # Odd indices\n",
    "        predicted_prior = outputs * Pn\n",
    "        # Append predictions and targets for later plotting\n",
    "        all_preds.append(predicted_prior.cpu().numpy())\n",
    "        all_targets.append(targets.cpu().numpy())\n",
    "\n",
    "\n",
    "\n",
    "# Convert lists to arrays\n",
    "all_preds = np.concatenate(all_preds, axis=0).flatten()\n",
    "all_targets = np.concatenate(all_targets, axis=0).flatten()\n",
    "\n",
    "\n",
    "jump = 600\n",
    "plt.figure(figsize=(10, 6))\n",
    "plt.scatter(all_targets[0:len(all_preds):jump], all_preds[0:len(all_preds):jump], label='Predictions', color='blue', marker='o', alpha=0.6)\n",
    "plt.scatter(all_targets[0:len(all_preds):jump], all_targets[0:len(all_preds):jump], label='Actual Labels', color='orange', marker='x', alpha=0.6)\n",
    "plt.xlabel('Sample Number')\n",
    "plt.ylabel('Value')\n",
    "plt.title('Model Predictions vs. Actual Labels on Validation Set')\n",
    "plt.legend()\n",
    "plt.show()"
   ],
   "id": "be00f9bda3094193",
   "outputs": [
    {
     "ename": "RuntimeError",
     "evalue": "The size of tensor a (2) must match the size of tensor b (50) at non-singleton dimension 1",
     "output_type": "error",
     "traceback": [
      "\u001B[0;31m---------------------------------------------------------------------------\u001B[0m",
      "\u001B[0;31mRuntimeError\u001B[0m                              Traceback (most recent call last)",
      "Cell \u001B[0;32mIn[82], line 12\u001B[0m\n\u001B[1;32m     10\u001B[0m Pn \u001B[38;5;241m=\u001B[39m inputs[:, ::\u001B[38;5;241m2\u001B[39m]  \u001B[38;5;66;03m# Even indices\u001B[39;00m\n\u001B[1;32m     11\u001B[0m In \u001B[38;5;241m=\u001B[39m inputs[:, \u001B[38;5;241m1\u001B[39m::\u001B[38;5;241m2\u001B[39m]  \u001B[38;5;66;03m# Odd indices\u001B[39;00m\n\u001B[0;32m---> 12\u001B[0m predicted_prior \u001B[38;5;241m=\u001B[39m \u001B[43moutputs\u001B[49m\u001B[43m \u001B[49m\u001B[38;5;241;43m*\u001B[39;49m\u001B[43m \u001B[49m\u001B[43mPn\u001B[49m\n\u001B[1;32m     13\u001B[0m \u001B[38;5;66;03m# Append predictions and targets for later plotting\u001B[39;00m\n\u001B[1;32m     14\u001B[0m all_preds\u001B[38;5;241m.\u001B[39mappend(predicted_prior\u001B[38;5;241m.\u001B[39mcpu()\u001B[38;5;241m.\u001B[39mnumpy())\n",
      "\u001B[0;31mRuntimeError\u001B[0m: The size of tensor a (2) must match the size of tensor b (50) at non-singleton dimension 1"
     ]
    }
   ],
   "execution_count": 82
  },
  {
   "metadata": {},
   "cell_type": "markdown",
   "source": "# Save weights",
   "id": "30e29e975f581ab2"
  },
  {
   "metadata": {
    "ExecuteTime": {
     "end_time": "2025-02-08T10:25:51.954953Z",
     "start_time": "2025-02-08T10:25:50.663928Z"
    }
   },
   "cell_type": "code",
   "source": [
    "PATH = './Wireless_Net_poly(alpha).pth'\n",
    "torch.save(model.state_dict(), PATH)\n",
    "print(\"Finsh\")"
   ],
   "id": "fe429aced520570",
   "outputs": [
    {
     "name": "stdout",
     "output_type": "stream",
     "text": [
      "Finsh\n"
     ]
    }
   ],
   "execution_count": 50
  },
  {
   "metadata": {},
   "cell_type": "code",
   "outputs": [],
   "execution_count": null,
   "source": "",
   "id": "66d56520d4a34fdd"
  }
 ],
 "metadata": {
  "kernelspec": {
   "display_name": "Python 3",
   "language": "python",
   "name": "python3"
  },
  "language_info": {
   "codemirror_mode": {
    "name": "ipython",
    "version": 2
   },
   "file_extension": ".py",
   "mimetype": "text/x-python",
   "name": "python",
   "nbconvert_exporter": "python",
   "pygments_lexer": "ipython2",
   "version": "2.7.6"
  }
 },
 "nbformat": 4,
 "nbformat_minor": 5
}
